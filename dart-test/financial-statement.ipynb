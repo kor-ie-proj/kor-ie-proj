{
 "cells": [
  {
   "cell_type": "code",
   "execution_count": null,
   "id": "b920a7a2",
   "metadata": {},
   "outputs": [
    {
     "name": "stderr",
     "output_type": "stream",
     "text": [
      "Error occurred during getting browser(s): random, but was suppressed with fallback.\n"
     ]
    },
    {
     "name": "stdout",
     "output_type": "stream",
     "text": [
      "                                      \r"
     ]
    },
    {
     "data": {
      "text/plain": [
       "'data/samsung_fs_from_2022.xlsx'"
      ]
     },
     "execution_count": 1,
     "metadata": {},
     "output_type": "execute_result"
    }
   ],
   "source": [
    "import dart_fss as dart\n",
    "import pandas as pd\n",
    "import os\n",
    "from dotenv import load_dotenv\n",
    "\n",
    "# set up api keys from env\n",
    "load_dotenv()\n",
    "api_key = os.getenv(\"DART_API_KEY\")\n",
    "dart.set_api_key(api_key=api_key)\n",
    "\n",
    "# get corp list\n",
    "corp_list = dart.get_corp_list()\n",
    "\n",
    "# find samsung's info by name\n",
    "# https://dart-fss.readthedocs.io/en/latest/dart_corp.html\n",
    "samsung = corp_list.find_by_corp_name('삼성전자', exactly=True)[0]\n",
    "\n",
    "# extract financial statements\n",
    "fs = samsung.extract_fs(bgn_de='20220101', progressbar=False)\n",
    "\n",
    "# save to excel\n",
    "if not os.path.exists('data'):\n",
    "    os.makedirs('data')\n",
    "fs.save(path='data', filename='samsung_fs_from_2022.xlsx') "
   ]
  }
 ],
 "metadata": {
  "kernelspec": {
   "display_name": "ie-proj",
   "language": "python",
   "name": "python3"
  },
  "language_info": {
   "codemirror_mode": {
    "name": "ipython",
    "version": 3
   },
   "file_extension": ".py",
   "mimetype": "text/x-python",
   "name": "python",
   "nbconvert_exporter": "python",
   "pygments_lexer": "ipython3",
   "version": "3.13.3"
  }
 },
 "nbformat": 4,
 "nbformat_minor": 5
}
