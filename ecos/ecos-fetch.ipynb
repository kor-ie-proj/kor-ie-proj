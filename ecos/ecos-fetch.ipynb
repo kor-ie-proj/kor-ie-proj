{
 "cells": [
  {
   "cell_type": "code",
   "execution_count": null,
   "id": "b7e1e1fe",
   "metadata": {},
   "outputs": [],
   "source": [
    "import os\n",
    "import csv\n",
    "import requests\n",
    "import pandas as pd\n",
    "import numpy as np\n",
    "from datetime import datetime\n",
    "from dotenv import load_dotenv\n",
    "\n",
    "# set up api keys from env\n",
    "load_dotenv()\n",
    "api_key = os.getenv(\"ECOS_API_KEY\")\n",
    "\n",
    "# set up API base URL for ECOS\n",
    "BASE_URL = \"https://ecos.bok.or.kr/api\""
   ]
  },
  {
   "cell_type": "code",
   "execution_count": null,
   "id": "8deb18e1",
   "metadata": {},
   "outputs": [],
   "source": [
    "# set up API request template\n",
    "def build_request_url(stats_code, start_date, end_date, item_code=None, format=\"json\"):\n",
    "    url = f\"{BASE_URL}/StatisticSearch/{api_key}/{format}/kr/1/10000/{stats_code}/M/{start_date}/{end_date}\"\n",
    "    return url\n",
    "\n",
    "# set up date range\n",
    "start_date = \"202401\"\n",
    "end_date = datetime.now().strftime(\"%Y%m\")"
   ]
  },
  {
   "cell_type": "markdown",
   "id": "312167b1",
   "metadata": {},
   "source": [
    "## 4. 데이터 소스 설정"
   ]
  },
  {
   "cell_type": "code",
   "execution_count": null,
   "id": "9bd2d392",
   "metadata": {},
   "outputs": [],
   "source": [
    "# set up enum for stat code and stat name\n",
    "STAT_CODES = {\n",
    "    \"base_rate\": \"722Y001\", # 정책 금리\n",
    "    \"market_rates\": \"721Y001\", # 시장 금리\n",
    "    \"usd_rate\": \"731Y006\", # 원/달러 환율\n",
    "    \"cpi\": \"901Y009\", # 소비자 물가 지수\n",
    "    \"ppi\": \"404Y014\", # 생산자 물가 지수\n",
    "    \"import_price\": \"401Y015\", # 수입 물가 지수\n",
    "    \"m2_money\": \"101Y003\", # M2(광의통화) 증가율\n",
    "    \"esi\": \"513Y001\", # 경제심리지수(ESI)\n",
    "    \"ccsi\": \"511Y002\", # 소비자심리지수(CCSI)\n",
    "    \"construction_bsi_actual\": \"512Y007\", # 건설업BSI(실적)\n",
    "    \"construction_bsi_forecast\": \"512Y008\", # 건설업BSI(예상)\n",
    "    \"leading_index\": \"901Y067\", # 선행지수 순환변동치\n",
    "    \"housing_sale\": \"901Y062\", # 주택 매매 가격 지수\n",
    "    \"housing_lease\": \"901Y063\", # 주택 전세 가격 지수\n",
    "}\n",
    "\n",
    "for stat_name, stat_code in STAT_CODES.items():\n",
    "   print(build_request_url(stat_code, start_date, end_date))\n",
    "\n",
    "# economic_indicators = [\n",
    "#     # (파일명, 변수명, 통계코드, 주기, 계정항목, 필터키)\n",
    "#     (\"base_rate.csv\", \"base_rate\", \"722Y001\", \"M\", \"0101000\", None),\n",
    "#     (\"market_interest_rate.csv\", \"market_rates\", \"721Y001\", \"M\", None, [\"국고채(3년)\", \"국고채(10년)\", \"회사채(3년,AA-)\", \"회사채(3년,BBB-)\"]),\n",
    "#     (\"exchange_rate_usd.csv\", \"usd_rate\", \"731Y006\", \"M\", None, [\"원/달러(종가 15:30)\", \"원/달러(종가)\", \"원/달러(종가 02:00)\"]),\n",
    "#     (\"cpi.csv\", \"cpi\", \"901Y009\", \"M\", \"0\", None),\n",
    "#     (\"ppi_specific.csv\", \"ppi\", \"404Y014\", \"M\", None, [\"비금속광물\", \"목재및목제품\", \"기타비금속광물제품\", \"철강1차제품\", \"금속가공제품\", \"전선및케이블\"]),\n",
    "#     (\"import_price_index.csv\", \"import_price\", \"401Y015\", \"M\", None, [\"총지수\"]),\n",
    "#     (\"m2_growth_rate.csv\", \"m2_money\", \"101Y014\", \"M\", None, [\"M2(광의통화)\"]),\n",
    "#     (\"esi.csv\", \"esi\", \"513Y001\", \"M\", \"10000\", None),\n",
    "#     (\"ccsi.csv\", \"ccsi\", \"511Y002\", \"M\", \"99988\", None),\n",
    "#     (\"construction_bsi_actual.csv\", \"construction_actual\", \"512Y007\", \"M\", \"4100\", None),\n",
    "#     (\"construction_bsi_forecast.csv\", \"construction_forecast\", \"512Y008\", \"M\", \"4100\", None),\n",
    "#     (\"leading_index.csv\", \"leading_index\", \"901Y067\", \"M\", None, [\"선행지수순환변동치\"]),\n",
    "#     (\"housing_sale_price.csv\", \"housing_sale\", \"901Y062\", \"M\", \"99999\", None),\n",
    "#     (\"housing_lease_price.csv\", \"housing_lease\", \"901Y063\", \"M\", \"99999\", None),\n",
    "# ]"
   ]
  }
 ],
 "metadata": {
  "kernelspec": {
   "display_name": "kor-ie-proj",
   "language": "python",
   "name": "python3"
  },
  "language_info": {
   "codemirror_mode": {
    "name": "ipython",
    "version": 3
   },
   "file_extension": ".py",
   "mimetype": "text/x-python",
   "name": "python",
   "nbconvert_exporter": "python",
   "pygments_lexer": "ipython3",
   "version": "3.13.3"
  }
 },
 "nbformat": 4,
 "nbformat_minor": 5
}
