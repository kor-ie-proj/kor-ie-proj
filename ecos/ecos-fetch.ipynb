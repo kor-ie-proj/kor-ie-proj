{
 "cells": [
  {
   "cell_type": "code",
   "execution_count": null,
   "id": "b7e1e1fe",
   "metadata": {},
   "outputs": [],
   "source": [
    "import os\n",
    "import csv\n",
    "import requests\n",
    "import pandas as pd\n",
    "import numpy as np\n",
    "from datetime import datetime\n",
    "from dotenv import load_dotenv\n",
    "\n",
    "# set up api keys from env\n",
    "load_dotenv()\n",
    "api_key = os.getenv(\"ECOS_API_KEY\")\n",
    "\n",
    "# set up API base URL for ECOS\n",
    "BASE_URL = \"https://ecos.bok.or.kr/api\""
   ]
  },
  {
   "cell_type": "code",
   "execution_count": null,
   "id": "8deb18e1",
   "metadata": {},
   "outputs": [],
   "source": [
    "# set up API request template\n",
    "def build_request_url(stats_code, start_date, end_date, item_code=None, format=\"json\"):\n",
    "    url = f\"{BASE_URL}/StatisticSearch/{api_key}/{format}/kr/1/10000/{stats_code}/M/{start_date}/{end_date}\"\n",
    "    return url\n",
    "\n",
    "# set up date range\n",
    "start_date = \"202401\"\n",
    "end_date = datetime.now().strftime(\"%Y%m\")"
   ]
  },
  {
   "cell_type": "markdown",
   "id": "312167b1",
   "metadata": {},
   "source": [
    "## 4. 데이터 소스 설정"
   ]
  },
  {
   "cell_type": "code",
   "execution_count": null,
   "id": "9bd2d392",
   "metadata": {},
   "outputs": [],
   "source": [
    "# 데이터 수집 설정 (ECOS_data.py 참고)\n",
    "\n",
    "# 단일 파일로 저장\n",
    "single_files = [\n",
    "    (\"base_rate.csv\", \"722Y001\", \"M\", \"0101000\", None),  # 기준금리\n",
    "    (\"cpi.csv\", \"901Y009\", \"M\", \"0\", None),  # 소비자물가지수\n",
    "    (\"esi.csv\", \"513Y001\", \"M\", None, [\"경제심리지수(원계열)\"]),  # 경제심리지수\n",
    "    (\"ccsi.csv\", \"511Y002\", \"M\", None, [\"현재생활형편CSI\"]),  # 소비자심리지수\n",
    "    (\"construction_bsi_actual.csv\", \"512Y007\", \"M\", None, [\"업황실적BSI 1)\"]),  # 건설업BSI(실적)\n",
    "    (\"construction_bsi_forecast.csv\", \"512Y008\", \"M\", None, [\"업황전망BSI 1)\"]),  # 건설업BSI(전망)\n",
    "    (\"housing_sale_price.csv\", \"901Y062\", \"M\", None, [\"총지수\"]),  # 주택매매가격지수\n",
    "    (\"housing_lease_price.csv\", \"901Y063\", \"M\", None, [\"총지수\"]),  # 주택전세가격지수\n",
    "    (\"leading_index.csv\", \"901Y067\", \"M\", None, [\"선행지수순환변동치\"]),  # 선행지수\n",
    "]\n",
    "\n",
    "# M2 증가율 (전기대비 증가율 계산)\n",
    "m2_files = [\n",
    "    (\"m2_growth.csv\", \"101Y003\", \"M\", None, [\"M2(평잔, 계절조정계열)\"])\n",
    "]\n",
    "\n",
    "# 개별 파일로 분리 (한 통계코드에 여러 항목)\n",
    "individual_files = [\n",
    "    (\"market_rate\", \"721Y001\", \"M\", None, [\"국고채(3년)\", \"국고채(10년)\", \"회사채(3년, AA-)\", \"회사채(3년, BBB-)\"]),  # 시장금리\n",
    "    (\"exchange_usd\", \"731Y006\", \"M\", None, [\"원/달러(종가 15:30)\"]),  # 환율\n",
    "    (\"ppi\", \"404Y014\", \"M\", None, [\"철강1차제품\", \"비금속광물\"]),  # 생산자물가지수\n",
    "    (\"import_price\", \"401Y015\", \"M\", None, [\"철강1차제품\", \"비금속광물\"]),  # 수입물가지수\n",
    "]\n",
    "\n",
    "# 통계코드별 설명\n",
    "STAT_CODES_INFO = {\n",
    "    \"722Y001\": \"한국은행 기준금리\",\n",
    "    \"721Y001\": \"시장금리 (국고채, 회사채)\",\n",
    "    \"731Y006\": \"원/달러 환율\",\n",
    "    \"901Y009\": \"소비자물가지수\",\n",
    "    \"404Y014\": \"생산자물가지수\",\n",
    "    \"401Y015\": \"수입물가지수\",\n",
    "    \"101Y003\": \"M2 통화량\",\n",
    "    \"513Y001\": \"경제심리지수(ESI)\",\n",
    "    \"511Y002\": \"소비자심리지수(CCSI)\",\n",
    "    \"512Y007\": \"건설업BSI(실적)\",\n",
    "    \"512Y008\": \"건설업BSI(전망)\",\n",
    "    \"901Y067\": \"선행지수\",\n",
    "    \"901Y062\": \"주택매매가격지수\",\n",
    "    \"901Y063\": \"주택전세가격지수\",\n",
    "}\n",
    "\n",
    "print(\"=== 수집할 경제지표 ===\")\n",
    "print(f\"단일 파일: {len(single_files)}개\")\n",
    "print(f\"M2 증가율: {len(m2_files)}개\")\n",
    "print(f\"개별 파일: {len(individual_files)}개\")\n",
    "print(f\"총 통계코드: {len(STAT_CODES_INFO)}개\")\n",
    "\n",
    "for code, desc in STAT_CODES_INFO.items():\n",
    "    print(f\"  {code}: {desc}\")"
   ]
  }
 ],
 "metadata": {
  "kernelspec": {
   "display_name": "kor-ie-proj",
   "language": "python",
   "name": "python3"
  },
  "language_info": {
   "codemirror_mode": {
    "name": "ipython",
    "version": 3
   },
   "file_extension": ".py",
   "mimetype": "text/x-python",
   "name": "python",
   "nbconvert_exporter": "python",
   "pygments_lexer": "ipython3",
   "version": "3.13.3"
  }
 },
 "nbformat": 4,
 "nbformat_minor": 5
}
